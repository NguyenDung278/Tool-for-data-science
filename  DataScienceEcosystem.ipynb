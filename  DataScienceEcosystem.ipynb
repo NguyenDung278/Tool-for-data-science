{
 "cells": [
  {
   "cell_type": "markdown",
   "id": "9b3cc3d0",
   "metadata": {},
   "source": [
    "Data Science Tools and Ecosystem\n"
   ]
  },
  {
   "cell_type": "markdown",
   "id": "b2b508ac",
   "metadata": {},
   "source": [
    "In this notebook, Data Science Tools and Ecosystem are summarized."
   ]
  },
  {
   "cell_type": "markdown",
   "id": "d43a7e32",
   "metadata": {},
   "source": [
    "Some of the popular languages that Data Scientists use are:\n",
    "Python\n",
    "java\n",
    "ruby\n"
   ]
  },
  {
   "cell_type": "markdown",
   "id": "604f336b",
   "metadata": {},
   "source": [
    "Some of the commonly used libraries used by Data Scientists include:\n",
    "1. NumPy: used for numerical computing with arrays and matrices\n",
    "2. Pandas: used for data manipulation and analysis\n",
    "3. Matplotlib: used for data visualization\n",
    "4. Seaborn: used for statistical data visualization\n",
    "5. Scikit-learn: used for machine learning tasks such as classification, regression, and clustering\n",
    "6. TensorFlow: used for developing and training machine learning models\n",
    "7. Keras: used as a high-level neural networks API, running on top of TensorFlow or other backend engines\n",
    "8. PyTorch: used for building deep learning models and training neural networks\n",
    "9. NLTK: used for natural language processing tasks such as sentiment analysis and language modeling\n",
    "10. OpenCV: used for computer vision and image processing tasks"
   ]
  },
  {
   "cell_type": "markdown",
   "id": "fa214255",
   "metadata": {},
   "source": [
    "# Data Science Tools\n",
    "1. Jupyter Notebook\n",
    "2. Visual Studio Code\n",
    "3. RStudio"
   ]
  },
  {
   "cell_type": "markdown",
   "id": "03ac6703",
   "metadata": {},
   "source": [
    "Below are a few examples of evaluating arithmetic expressions in Python"
   ]
  },
  {
   "cell_type": "code",
   "execution_count": 1,
   "id": "9c2c334f",
   "metadata": {},
   "outputs": [
    {
     "data": {
      "text/plain": [
       "3"
      ]
     },
     "execution_count": 1,
     "metadata": {},
     "output_type": "execute_result"
    }
   ],
   "source": [
    "1+2"
   ]
  },
  {
   "cell_type": "markdown",
   "id": "c8266d48",
   "metadata": {},
   "source": [
    "This a simple arithmetic expression to mutiply then add integers"
   ]
  },
  {
   "cell_type": "code",
   "execution_count": 2,
   "id": "4967d6ce",
   "metadata": {},
   "outputs": [
    {
     "data": {
      "text/plain": [
       "17"
      ]
     },
     "execution_count": 2,
     "metadata": {},
     "output_type": "execute_result"
    }
   ],
   "source": [
    "(3*4)+5"
   ]
  },
  {
   "cell_type": "markdown",
   "id": "e16b2fd8",
   "metadata": {},
   "source": [
    " This will convert 200 minutes to hours by diving by 60"
   ]
  },
  {
   "cell_type": "code",
   "execution_count": 5,
   "id": "c36e6827",
   "metadata": {},
   "outputs": [
    {
     "data": {
      "text/plain": [
       "3"
      ]
     },
     "execution_count": 5,
     "metadata": {},
     "output_type": "execute_result"
    }
   ],
   "source": [
    "200//60"
   ]
  },
  {
   "cell_type": "markdown",
   "id": "318454e9",
   "metadata": {},
   "source": [
    "# Objectives:\n",
    "List popular languages for Data Science\n",
    "1. Python\n",
    "2. Ruby"
   ]
  },
  {
   "cell_type": "markdown",
   "id": "86071097",
   "metadata": {},
   "source": [
    "## Author\n",
    "name"
   ]
  },
  {
   "cell_type": "code",
   "execution_count": null,
   "id": "c1397ab8",
   "metadata": {},
   "outputs": [],
   "source": []
  }
 ],
 "metadata": {
  "kernelspec": {
   "display_name": "Python 3 (ipykernel)",
   "language": "python",
   "name": "python3"
  },
  "language_info": {
   "codemirror_mode": {
    "name": "ipython",
    "version": 3
   },
   "file_extension": ".py",
   "mimetype": "text/x-python",
   "name": "python",
   "nbconvert_exporter": "python",
   "pygments_lexer": "ipython3",
   "version": "3.9.15"
  }
 },
 "nbformat": 4,
 "nbformat_minor": 5
}
